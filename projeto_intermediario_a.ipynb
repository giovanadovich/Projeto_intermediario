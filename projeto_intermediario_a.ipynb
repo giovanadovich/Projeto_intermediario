{
  "nbformat": 4,
  "nbformat_minor": 0,
  "metadata": {
    "colab": {
      "provenance": []
    },
    "kernelspec": {
      "name": "python3",
      "display_name": "Python 3"
    },
    "language_info": {
      "name": "python"
    }
  },
  "cells": [
    {
      "cell_type": "code",
      "execution_count": null,
      "metadata": {
        "id": "QodH6iT5PlBq"
      },
      "outputs": [],
      "source": [
        "# Baixar a versão mais recente do Google Cloud SDK\n",
        "!curl -O https://dl.google.com/dl/cloudsdk/channels/rapid/downloads/google-cloud-sdk-430.0.0-linux-x86_64.tar.gz\n",
        "\n",
        "# Extrair o arquivo baixado\n",
        "!tar -xf google-cloud-sdk-430.0.0-linux-x86_64.tar.gz\n",
        "\n",
        "# Instalar o SDK sem prompts interativos\n",
        "!./google-cloud-sdk/install.sh -q\n",
        "\n",
        "# Adicionar o gcloud ao PATH para facilitar o uso\n",
        "import os\n",
        "os.environ[\"PATH\"] += \":/content/google-cloud-sdk/bin\""
      ]
    },
    {
      "cell_type": "code",
      "source": [
        "from google.colab import auth\n",
        "auth.authenticate_user()\n",
        "\n",
        "# Configurar as credenciais de aplicação padrão para o gcloud\n",
        "!gcloud auth application-default login --quiet"
      ],
      "metadata": {
        "id": "aK92VgR4Pmmo"
      },
      "execution_count": null,
      "outputs": []
    },
    {
      "cell_type": "code",
      "source": [
        "# Substitua pelos seus valores\n",
        "PROJECT_ID = '...'\n",
        "ZONE = '...'\n",
        "CLUSTER_NAME = '...'\n",
        "\n",
        "# Obter credenciais\n",
        "!./google-cloud-sdk/bin/gcloud container clusters get-credentials {CLUSTER_NAME} --zone {ZONE} --project {PROJECT_ID}"
      ],
      "metadata": {
        "id": "dHMyykMwPqSh"
      },
      "execution_count": null,
      "outputs": []
    },
    {
      "cell_type": "code",
      "source": [
        "# Baixar a versão mais recente do kubectl\n",
        "!curl -LO \"https://dl.k8s.io/release/$(curl -L -s https://dl.k8s.io/release/stable.txt)/bin/linux/amd64/kubectl\"\n",
        "\n",
        "# Tornar o kubectl executável\n",
        "!chmod +x kubectl\n",
        "\n",
        "# Mover o kubectl para um diretório no PATH\n",
        "!sudo mv kubectl /usr/local/bin/"
      ],
      "metadata": {
        "id": "41VkbhRKPx2T"
      },
      "execution_count": null,
      "outputs": []
    },
    {
      "cell_type": "code",
      "source": [
        "# Verificar os nós do cluster\n",
        "!kubectl get nodes"
      ],
      "metadata": {
        "id": "z8j-nBb9PzKK"
      },
      "execution_count": null,
      "outputs": []
    },
    {
      "cell_type": "code",
      "source": [
        "deployment_yaml = \"\"\"\n",
        "apiVersion: apps/v1\n",
        "kind: Deployment\n",
        "metadata:\n",
        "  name: nginx-deployment\n",
        "spec:\n",
        "  replicas: 2\n",
        "  selector:\n",
        "    matchLabels:\n",
        "      app: nginx\n",
        "  template:\n",
        "    metadata:\n",
        "      labels:\n",
        "        app: nginx\n",
        "    spec:\n",
        "      containers:\n",
        "      - name: nginx\n",
        "        image: nginx:stable\n",
        "        ports:\n",
        "        - containerPort: 80\n",
        "        resources:\n",
        "          requests:\n",
        "            cpu: \"100m\"\n",
        "          limits:\n",
        "            cpu: \"500m\"\n",
        "\"\"\"\n",
        "\n",
        "with open('nginx-deployment.yaml', 'w') as f:\n",
        "    f.write(deployment_yaml)\n",
        "\n",
        "!kubectl apply -f nginx-deployment.yaml"
      ],
      "metadata": {
        "id": "NbSUFBDeP1s3"
      },
      "execution_count": null,
      "outputs": []
    },
    {
      "cell_type": "code",
      "source": [
        "service_yaml = \"\"\"\n",
        "apiVersion: v1\n",
        "kind: Service\n",
        "metadata:\n",
        "  name: nginx-service\n",
        "spec:\n",
        "  type: LoadBalancer\n",
        "  selector:\n",
        "    app: nginx\n",
        "  ports:\n",
        "    - protocol: TCP\n",
        "      port: 80\n",
        "      targetPort: 80\n",
        "\"\"\"\n",
        "\n",
        "with open('nginx-service.yaml', 'w') as f:\n",
        "    f.write(service_yaml)\n",
        "\n",
        "!kubectl apply -f nginx-service.yaml"
      ],
      "metadata": {
        "id": "Kwnua2GWP6XF"
      },
      "execution_count": null,
      "outputs": []
    },
    {
      "cell_type": "code",
      "source": [
        "!kubectl apply -f https://github.com/kubernetes-sigs/metrics-server/releases/latest/download/components.yaml"
      ],
      "metadata": {
        "id": "iHFg2lTPP6Tr"
      },
      "execution_count": null,
      "outputs": []
    },
    {
      "cell_type": "code",
      "source": [
        "hpa_yaml = \"\"\"\n",
        "apiVersion: autoscaling/v2\n",
        "kind: HorizontalPodAutoscaler\n",
        "metadata:\n",
        "  name: nginx-hpa\n",
        "spec:\n",
        "  scaleTargetRef:\n",
        "    apiVersion: apps/v1\n",
        "    kind: Deployment\n",
        "    name: nginx-deployment\n",
        "  minReplicas: 2\n",
        "  maxReplicas: 5\n",
        "  metrics:\n",
        "  - type: Resource\n",
        "    resource:\n",
        "      name: cpu\n",
        "      target:\n",
        "        type: Utilization\n",
        "        averageUtilization: 50\n",
        "\"\"\"\n",
        "\n",
        "with open('nginx-hpa.yaml', 'w') as f:\n",
        "    f.write(hpa_yaml)\n",
        "\n",
        "!kubectl apply -f nginx-hpa.yaml\n",
        "hpa_yaml = \"\"\"\n",
        "apiVersion: autoscaling/v2\n",
        "kind: HorizontalPodAutoscaler\n",
        "metadata:\n",
        "  name: nginx-hpa\n",
        "spec:\n",
        "  scaleTargetRef:\n",
        "    apiVersion: apps/v1\n",
        "    kind: Deployment\n",
        "    name: nginx-deployment\n",
        "  minReplicas: 2\n",
        "  maxReplicas: 5\n",
        "  metrics:\n",
        "  - type: Resource\n",
        "    resource:\n",
        "      name: cpu\n",
        "      target:\n",
        "        type: Utilization\n",
        "        averageUtilization: 50\n",
        "\"\"\"\n",
        "\n",
        "with open('nginx-hpa.yaml', 'w') as f:\n",
        "    f.write(hpa_yaml)\n",
        "\n",
        "!kubectl apply -f nginx-hpa.yaml"
      ],
      "metadata": {
        "id": "s4ZIiJXdP6RR"
      },
      "execution_count": null,
      "outputs": []
    },
    {
      "cell_type": "code",
      "source": [
        "!kubectl get hpa"
      ],
      "metadata": {
        "id": "8RIQlDuzP6O2"
      },
      "execution_count": null,
      "outputs": []
    },
    {
      "cell_type": "code",
      "source": [
        "!kubectl get service nginx-service"
      ],
      "metadata": {
        "id": "mU7bqaWqP5_3"
      },
      "execution_count": null,
      "outputs": []
    }
  ]
}